{
 "cells": [
  {
   "cell_type": "markdown",
   "metadata": {
    "deletable": true,
    "editable": true,
    "nbgrader": {
     "grade": false,
     "grade_id": "intro_1",
     "locked": false,
     "solution": false
    }
   },
   "source": [
    "# Assignment 2: Markov Decision Processes\n",
    "\n",
    "\n",
    "## Homework Instructions\n",
    "All your answers should be written in this notebook.  You shouldn't need to write or modify any other files.\n",
    "Look for four instances of \"YOUR CODE HERE\"--those are the only parts of the code you need to write. To grade your homework, we will check whether the printouts immediately following your code match up with the results we got. The portions used for grading are highlighted in yellow. (However, note that the yellow highlighting does not show up when github renders this file.)\n",
    "\n",
    "To submit your homework, send an email to <berkeleydeeprlcourse@gmail.com> with the subject line \"Deep RL Assignment 2\" and two attachments:\n",
    "1. This `ipynb` file\n",
    "2. A pdf version of this file (To make the pdf, do `File - Print Preview`)\n",
    "\n",
    "The homework is due Febrary 22nd, 11:59 pm.\n",
    "\n",
    "--------------------------"
   ]
  },
  {
   "cell_type": "markdown",
   "metadata": {
    "deletable": true,
    "editable": true,
    "nbgrader": {
     "grade": false,
     "grade_id": "intro_2",
     "locked": false,
     "solution": false
    }
   },
   "source": [
    "## Introduction\n",
    "\n",
    "This assignment will review the two classic methods for solving Markov Decision Processes (MDPs) with finite state and action spaces.\n",
    "We will implement value iteration (VI) and policy iteration (PI) for a finite MDP, both of which find the optimal policy in a finite number of iterations.\n",
    "\n",
    "The experiments here will use the Frozen Lake environment, a simple gridworld MDP that is taken from `gym` and slightly modified for this assignment. In this MDP, the agent must navigate from the start state to the goal state on a 4x4 grid, with stochastic transitions."
   ]
  },
  {
   "cell_type": "code",
   "execution_count": 1,
   "metadata": {
    "collapsed": false,
    "deletable": true,
    "editable": true
   },
   "outputs": [
    {
     "name": "stdout",
     "output_type": "stream",
     "text": [
      "\n",
      "    Winter is here. You and your friends were tossing around a frisbee at the park\n",
      "    when you made a wild throw that left the frisbee out in the middle of the lake.\n",
      "    The water is mostly frozen, but there are a few holes where the ice has melted.\n",
      "    If you step into one of those holes, you'll fall into the freezing water.\n",
      "    At this time, there's an international frisbee shortage, so it's absolutely imperative that\n",
      "    you navigate across the lake and retrieve the disc.\n",
      "    However, the ice is slippery, so you won't always move in the direction you intend.\n",
      "    The surface is described using a grid like the following\n",
      "\n",
      "        SFFF\n",
      "        FHFH\n",
      "        FFFH\n",
      "        HFFG\n",
      "\n",
      "    S : starting point, safe\n",
      "    F : frozen surface, safe\n",
      "    H : hole, fall to your doom\n",
      "    G : goal, where the frisbee is located\n",
      "\n",
      "    The episode ends when you reach the goal or fall in a hole.\n",
      "    You receive a reward of 1 if you reach the goal, and zero otherwise.\n",
      "\n",
      "    \n"
     ]
    }
   ],
   "source": [
    "from frozen_lake import FrozenLakeEnv\n",
    "env = FrozenLakeEnv()\n",
    "print(env.__doc__)"
   ]
  },
  {
   "cell_type": "markdown",
   "metadata": {
    "deletable": true,
    "editable": true
   },
   "source": [
    "Let's look at what a random episode looks like."
   ]
  },
  {
   "cell_type": "code",
   "execution_count": 2,
   "metadata": {
    "collapsed": false,
    "deletable": true,
    "editable": true,
    "scrolled": true
   },
   "outputs": [
    {
     "name": "stdout",
     "output_type": "stream",
     "text": [
      "\n",
      "\u001b[41mS\u001b[0mFFF\n",
      "FHFH\n",
      "FFFH\n",
      "HFFG\n",
      "  (Down)\n",
      "S\u001b[41mF\u001b[0mFF\n",
      "FHFH\n",
      "FFFH\n",
      "HFFG\n",
      "  (Down)\n",
      "SFFF\n",
      "F\u001b[41mH\u001b[0mFH\n",
      "FFFH\n",
      "HFFG\n"
     ]
    }
   ],
   "source": [
    "# Some basic imports and setup\n",
    "import numpy as np, numpy.random as nr, gym\n",
    "np.set_printoptions(precision=3)\n",
    "def begin_grading(): print(\"\\x1b[43m\")\n",
    "def end_grading(): print(\"\\x1b[0m\")\n",
    "\n",
    "# Seed RNGs so you get the same printouts as me\n",
    "env.seed(0); from gym.spaces import prng; prng.seed(10)\n",
    "# Generate the episode\n",
    "env.reset()\n",
    "for t in range(100):\n",
    "    env.render()\n",
    "    a = env.action_space.sample()\n",
    "    ob, rew, done, _ = env.step(a)\n",
    "    if done:\n",
    "        break\n",
    "assert done\n",
    "env.render();"
   ]
  },
  {
   "cell_type": "markdown",
   "metadata": {
    "deletable": true,
    "editable": true
   },
   "source": [
    "In the episode above, the agent falls into a hole after two timesteps. Also note the stochasticity--on the first step, the DOWN action is selected, but the agent moves to the right.\n",
    "\n",
    "We extract the relevant information from the gym Env into the MDP class below.\n",
    "The `env` object won't be used any further, we'll just use the `mdp` object."
   ]
  },
  {
   "cell_type": "code",
   "execution_count": 3,
   "metadata": {
    "collapsed": false,
    "deletable": true,
    "editable": true,
    "scrolled": true
   },
   "outputs": [
    {
     "name": "stdout",
     "output_type": "stream",
     "text": [
      "mdp.P is a two-level dict where the first key is the state and the second key is the action.\n",
      "The 2D grid cells are associated with indices [0, 1, 2, ..., 15] from left to right and top to down, as in\n",
      "[[ 0  1  2  3]\n",
      " [ 4  5  6  7]\n",
      " [ 8  9 10 11]\n",
      " [12 13 14 15]]\n",
      "mdp.P[state][action] is a list of tuples (probability, nextstate, reward).\n",
      "\n",
      "('For example, state 0 is the initial state, and the transition information for s=0, a=0 is \\nP[0][0] =', [(0.1, 0, 0.0), (0.8, 0, 0.0), (0.1, 4, 0.0)], '\\n')\n",
      "As another example, state 5 corresponds to a hole in the ice, which transitions to itself with probability 1 and reward 0.\n",
      "('P[5][0] =', [(1.0, 5, 0)], '\\n')\n"
     ]
    }
   ],
   "source": [
    "class MDP(object):\n",
    "    def __init__(self, P, nS, nA, desc=None):\n",
    "        self.P = P # state transition and reward probabilities, explained below\n",
    "        self.nS = nS # number of states\n",
    "        self.nA = nA # number of actions\n",
    "        self.desc = desc # 2D array specifying what each grid cell means (used for plotting)\n",
    "mdp = MDP( {s : {a : [tup[:3] for tup in tups] for (a, tups) in a2d.items()} for (s, a2d) in env.P.items()}, env.nS, env.nA, env.desc)\n",
    "\n",
    "\n",
    "print(\"mdp.P is a two-level dict where the first key is the state and the second key is the action.\")\n",
    "print(\"The 2D grid cells are associated with indices [0, 1, 2, ..., 15] from left to right and top to down, as in\")\n",
    "print(np.arange(16).reshape(4,4))\n",
    "print(\"mdp.P[state][action] is a list of tuples (probability, nextstate, reward).\\n\")\n",
    "print(\"For example, state 0 is the initial state, and the transition information for s=0, a=0 is \\nP[0][0] =\", mdp.P[0][0], \"\\n\")\n",
    "print(\"As another example, state 5 corresponds to a hole in the ice, which transitions to itself with probability 1 and reward 0.\")\n",
    "print(\"P[5][0] =\", mdp.P[5][0], '\\n')"
   ]
  },
  {
   "cell_type": "markdown",
   "metadata": {
    "deletable": true,
    "editable": true,
    "nbgrader": {
     "grade": false,
     "grade_id": "4",
     "locked": false,
     "solution": false
    }
   },
   "source": [
    "## Part 1: Value Iteration"
   ]
  },
  {
   "cell_type": "markdown",
   "metadata": {
    "deletable": true,
    "editable": true,
    "nbgrader": {
     "grade": false,
     "locked": false,
     "solution": false
    }
   },
   "source": [
    "### Problem 1: implement value iteration\n",
    "In this problem, you'll implement value iteration, which has the following pseudocode:\n",
    "\n",
    "---\n",
    "Initialize $V^{(0)}(s)=0$, for all $s$\n",
    "\n",
    "For $i=0, 1, 2, \\dots$\n",
    "- $V^{(i+1)}(s) = \\max_a \\sum_{s'} P(s,a,s') [ R(s,a,s') + \\gamma V^{(i)}(s')]$, for all $s$\n",
    "\n",
    "---\n",
    "\n",
    "We additionally define the sequence of greedy policies $\\pi^{(0)}, \\pi^{(1)}, \\dots, \\pi^{(n-1)}$, where\n",
    "$$\\pi^{(i)}(s) = \\arg \\max_a \\sum_{s'} P(s,a,s') [ R(s,a,s') + \\gamma V^{(i)}(s')]$$\n",
    "\n",
    "Your code will return two lists: $[V^{(0)}, V^{(1)}, \\dots, V^{(n)}]$ and $[\\pi^{(0)}, \\pi^{(1)}, \\dots, \\pi^{(n-1)}]$\n",
    "\n",
    "To ensure that you get the same policies as the reference solution, choose the lower-index action to break ties in $\\arg \\max_a$. This is done automatically by np.argmax. This will only affect the \"# chg actions\" printout below--it won't affect the values computed.\n",
    "\n",
    "<div class=\"alert alert-warning\">\n",
    "Warning: make a copy of your value function each iteration and use that copy for the update--don't update your value function in place. \n",
    "Updating in-place is also a valid algorithm, sometimes called Gauss-Seidel value iteration or asynchronous value iteration, but it will cause you to get different results than me.\n",
    "</div>"
   ]
  },
  {
   "cell_type": "code",
   "execution_count": 4,
   "metadata": {
    "collapsed": false,
    "deletable": true,
    "editable": true,
    "nbgrader": {
     "grade": false,
     "grade_id": "vstar_backup",
     "locked": false,
     "solution": true
    },
    "scrolled": false
   },
   "outputs": [
    {
     "name": "stdout",
     "output_type": "stream",
     "text": [
      "\u001b[43m\n",
      "Iteration | max|V-Vprev| | # chg actions | V[0]\n",
      "----------+--------------+---------------+---------\n",
      "   0      | 0.80000      |  N/A          | 0.000\n",
      "   1      | 0.60800      |    2          | 0.000\n",
      "   2      | 0.51984      |    2          | 0.000\n",
      "   3      | 0.39508      |    2          | 0.000\n",
      "   4      | 0.30026      |    2          | 0.000\n",
      "   5      | 0.25355      |    1          | 0.254\n",
      "   6      | 0.10478      |    0          | 0.345\n",
      "   7      | 0.09657      |    0          | 0.442\n",
      "   8      | 0.03656      |    0          | 0.478\n",
      "   9      | 0.02772      |    0          | 0.506\n",
      "  10      | 0.01111      |    0          | 0.517\n",
      "  11      | 0.00735      |    0          | 0.524\n",
      "  12      | 0.00310      |    0          | 0.527\n",
      "  13      | 0.00190      |    0          | 0.529\n",
      "  14      | 0.00083      |    0          | 0.530\n",
      "  15      | 0.00049      |    0          | 0.531\n",
      "  16      | 0.00022      |    0          | 0.531\n",
      "  17      | 0.00013      |    0          | 0.531\n",
      "  18      | 0.00006      |    0          | 0.531\n",
      "  19      | 0.00003      |    0          | 0.531\n",
      "\u001b[0m\n"
     ]
    }
   ],
   "source": [
    "def value_iteration(mdp, gamma, nIt):\n",
    "    \"\"\"\n",
    "    Inputs:\n",
    "        mdp: MDP\n",
    "        gamma: discount factor\n",
    "        nIt: number of iterations, corresponding to n above\n",
    "    Outputs:\n",
    "        (value_functions, policies)\n",
    "        \n",
    "    len(value_functions) == nIt+1 and len(policies) == n\n",
    "    \"\"\"\n",
    "    print(\"Iteration | max|V-Vprev| | # chg actions | V[0]\")\n",
    "    print(\"----------+--------------+---------------+---------\")\n",
    "    Vs = [np.zeros(mdp.nS)] # list of value functions contains the initial value function V^{(0)}, which is zero\n",
    "    pis = []\n",
    "    for it in range(nIt):\n",
    "        oldpi = pis[-1] if len(pis) > 0 else None # \\pi^{(it)} = Greedy[V^{(it-1)}]. Just used for printout\n",
    "        Vprev = Vs[-1] # V^{(it)}\n",
    "        # YOUR CODE HERE\n",
    "        # Your code should define the following two variables\n",
    "        # pi: greedy policy for Vprev, \n",
    "        #     corresponding to the math above: \\pi^{(it)} = Greedy[V^{(it)}]\n",
    "        #     numpy array of ints\n",
    "        # V: bellman backup on Vprev\n",
    "        #     corresponding to the math above: V^{(it+1)} = T[V^{(it)}]\n",
    "        #     numpy array of floats\n",
    "        V = np.zeros(mdp.nS)\n",
    "        pi = np.zeros_like(V)\n",
    "        for s in xrange(mdp.nS):\n",
    "            A = np.zeros(mdp.nA)\n",
    "            for a in xrange(mdp.nA):\n",
    "                for prob, next_state, reward in mdp.P[s][a]:\n",
    "                    A[a] += prob*(reward+gamma*Vprev[next_state])\n",
    "            V[s] = np.max(A)\n",
    "            pi[s] = np.argmax(A)\n",
    "        # MY CODE ENDS HERE\n",
    "        \n",
    "        max_diff = np.abs(V - Vprev).max()\n",
    "        nChgActions=\"N/A\" if oldpi is None else (pi != oldpi).sum()\n",
    "        print(\"%4i      | %6.5f      | %4s          | %5.3f\"%(it, max_diff, nChgActions, V[0]))\n",
    "        Vs.append(V)\n",
    "        pis.append(pi)\n",
    "    return Vs, pis\n",
    "\n",
    "GAMMA=0.95 # we'll be using this same value in subsequent problems\n",
    "begin_grading()\n",
    "Vs_VI, pis_VI = value_iteration(mdp, gamma=GAMMA, nIt=20)\n",
    "end_grading()\n"
   ]
  },
  {
   "cell_type": "markdown",
   "metadata": {
    "deletable": true,
    "editable": true
   },
   "source": [
    "Below, we've illustrated the progress of value iteration. Your optimal actions are shown by arrows.\n",
    "At the bottom, the value of the different states are plotted."
   ]
  },
  {
   "cell_type": "code",
   "execution_count": 5,
   "metadata": {
    "collapsed": false,
    "deletable": true,
    "editable": true,
    "scrolled": false
   },
   "outputs": [
    {
     "data": {
      "image/png": "[encoded data removed]",
      "text/plain": [
       "<matplotlib.figure.Figure at 0x11029ddd0>"
      ]
     },
     "metadata": {},
     "output_type": "display_data"
    },
    {
     "data": {
      "image/png": "[encoded data removed]",
      "text/plain": [
       "<matplotlib.figure.Figure at 0x1103701d0>"
      ]
     },
     "metadata": {},
     "output_type": "display_data"
    },
    {
     "data": {
      "image/png": "[encoded data removed]",
      "text/plain": [
       "<matplotlib.figure.Figure at 0x1103655d0>"
      ]
     },
     "metadata": {},
     "output_type": "display_data"
    },
    {
     "data": {
      "image/png": "[encoded data removed]",
      "text/plain": [
       "<matplotlib.figure.Figure at 0x110592190>"
      ]
     },
     "metadata": {},
     "output_type": "display_data"
    },
    {
     "data": {
      "image/png": "[encoded data removed]",
      "text/plain": [
       "<matplotlib.figure.Figure at 0x1106966d0>"
      ]
     },
     "metadata": {},
     "output_type": "display_data"
    },
    {
     "data": {
      "image/png": "[encoded data removed]",
      "text/plain": [
       "<matplotlib.figure.Figure at 0x11079d050>"
      ]
     },
     "metadata": {},
     "output_type": "display_data"
    },
    {
     "data": {
      "image/png": "[encoded data removed]",
      "text/plain": [
       "<matplotlib.figure.Figure at 0x11086b950>"
      ]
     },
     "metadata": {},
     "output_type": "display_data"
    },
    {
     "data": {
      "image/png": "[encoded data removed]",
      "text/plain": [
       "<matplotlib.figure.Figure at 0x11098f3d0>"
      ]
     },
     "metadata": {},
     "output_type": "display_data"
    },
    {
     "data": {
      "image/png": "[encoded data removed]",
      "text/plain": [
       "<matplotlib.figure.Figure at 0x110a74e90>"
      ]
     },
     "metadata": {},
     "output_type": "display_data"
    },
    {
     "data": {
      "image/png": "[encoded data removed]",
      "text/plain": [
       "<matplotlib.figure.Figure at 0x110b85fd0>"
      ]
     },
     "metadata": {},
     "output_type": "display_data"
    },
    {
     "data": {
      "image/png": "[encoded data removed]",
      "text/plain": [
       "<matplotlib.figure.Figure at 0x10f6ba790>"
      ]
     },
     "metadata": {},
     "output_type": "display_data"
    }
   ],
   "source": [
    "import matplotlib.pyplot as plt\n",
    "%matplotlib inline\n",
    "for (V, pi) in zip(Vs_VI[:10], pis_VI[:10]):\n",
    "    plt.figure(figsize=(3,3))\n",
    "    plt.imshow(V.reshape(4,4), cmap='gray', interpolation='none', clim=(0,1))\n",
    "    ax = plt.gca()\n",
    "    ax.set_xticks(np.arange(4)-.5)\n",
    "    ax.set_yticks(np.arange(4)-.5)\n",
    "    ax.set_xticklabels([])\n",
    "    ax.set_yticklabels([])\n",
    "    Y, X = np.mgrid[0:4, 0:4]\n",
    "    a2uv = {0: (-1, 0), 1:(0, -1), 2:(1,0), 3:(-1, 0)}\n",
    "    Pi = pi.reshape(4,4)\n",
    "    for y in range(4):\n",
    "        for x in range(4):\n",
    "            a = Pi[y, x]\n",
    "            u, v = a2uv[a]\n",
    "            plt.arrow(x, y,u*.3, -v*.3, color='m', head_width=0.1, head_length=0.1) \n",
    "            plt.text(x, y, str(env.desc[y,x].item().decode()),\n",
    "                     color='g', size=12,  verticalalignment='center',\n",
    "                     horizontalalignment='center', fontweight='bold')\n",
    "    plt.grid(color='b', lw=2, ls='-')\n",
    "plt.figure()\n",
    "plt.plot(Vs_VI)\n",
    "plt.title(\"Values of different states\");"
   ]
  },
  {
   "cell_type": "markdown",
   "metadata": {
    "deletable": true,
    "editable": true
   },
   "source": [
    "## Problem 2: construct an MDP where value iteration takes a long time to converge\n",
    "\n",
    "When we ran value iteration on the frozen lake problem, the last iteration where an action changed was iteration 6--i.e., value iteration computed the optimal policy at iteration 6.\n",
    "Are there any guarantees regarding how many iterations it'll take value iteration to compute the optimal policy?\n",
    "There are no such guarantees without additional assumptions--we can construct the MDP in such a way that the greedy policy will change after arbitrarily many iterations.\n",
    "\n",
    "Your task: define an MDP with at most 3 states and 2 actions, such that when you run value iteration, the optimal action changes at iteration >= 50. Use discount=0.95. (However, note that the discount doesn't matter here--you can construct an appropriate MDP with any discount.)"
   ]
  },
  {
   "cell_type": "code",
   "execution_count": 72,
   "metadata": {
    "collapsed": false,
    "deletable": true,
    "editable": true,
    "scrolled": false
   },
   "outputs": [
    {
     "name": "stdout",
     "output_type": "stream",
     "text": [
      "\u001b[43m\n",
      "Iteration | max|V-Vprev| | # chg actions | V[0]\n",
      "----------+--------------+---------------+---------\n",
      "   0      | 9.00000      |  N/A          | 0.002\n",
      "   1      | 8.55000      |    0          | 0.005\n",
      "   2      | 8.12250      |    0          | 0.008\n",
      "   3      | 7.71638      |    0          | 0.013\n",
      "   4      | 7.33056      |    0          | 0.017\n",
      "   5      | 6.96403      |    0          | 0.023\n",
      "   6      | 6.61583      |    0          | 0.028\n",
      "   7      | 6.28504      |    0          | 0.034\n",
      "   8      | 5.97078      |    0          | 0.041\n",
      "   9      | 5.67224      |    0          | 0.047\n",
      "  10      | 5.38863      |    0          | 0.054\n",
      "  11      | 5.11920      |    0          | 0.061\n",
      "  12      | 4.86324      |    0          | 0.068\n",
      "  13      | 4.62008      |    0          | 0.075\n",
      "  14      | 4.38907      |    0          | 0.083\n",
      "  15      | 4.16962      |    0          | 0.090\n",
      "  16      | 3.96114      |    0          | 0.097\n",
      "  17      | 3.76308      |    0          | 0.104\n",
      "  18      | 3.57493      |    0          | 0.112\n",
      "  19      | 3.39618      |    0          | 0.119\n",
      "  20      | 3.22637      |    0          | 0.126\n",
      "  21      | 3.06505      |    0          | 0.133\n",
      "  22      | 2.91180      |    0          | 0.140\n",
      "  23      | 2.76621      |    0          | 0.147\n",
      "  24      | 2.62790      |    0          | 0.154\n",
      "  25      | 2.49651      |    0          | 0.160\n",
      "  26      | 2.37168      |    0          | 0.167\n",
      "  27      | 2.25310      |    0          | 0.173\n",
      "  28      | 2.14044      |    0          | 0.179\n",
      "  29      | 2.03342      |    0          | 0.185\n",
      "  30      | 1.93175      |    0          | 0.191\n",
      "  31      | 1.83516      |    0          | 0.197\n",
      "  32      | 1.74340      |    0          | 0.202\n",
      "  33      | 1.65623      |    0          | 0.208\n",
      "  34      | 1.57342      |    0          | 0.213\n",
      "  35      | 1.49475      |    0          | 0.218\n",
      "  36      | 1.42001      |    0          | 0.223\n",
      "  37      | 1.34901      |    0          | 0.228\n",
      "  38      | 1.28156      |    0          | 0.233\n",
      "  39      | 1.21748      |    0          | 0.238\n",
      "  40      | 1.15661      |    0          | 0.242\n",
      "  41      | 1.09878      |    0          | 0.246\n",
      "  42      | 1.04384      |    0          | 0.250\n",
      "  43      | 0.99165      |    0          | 0.254\n",
      "  44      | 0.94207      |    0          | 0.258\n",
      "  45      | 0.89496      |    0          | 0.262\n",
      "  46      | 0.85021      |    0          | 0.266\n",
      "  47      | 0.80770      |    0          | 0.269\n",
      "  48      | 0.76732      |    0          | 0.272\n",
      "  49      | 0.72895      |    0          | 0.276\n",
      "  50      | 0.69250      |    1          | 0.279\n",
      "\u001b[0m\n"
     ]
    }
   ],
   "source": [
    "chg_iter = 50\n",
    "# YOUR CODE HERE\n",
    "# Your code will need to define an MDP (mymdp)\n",
    "\n",
    "P = {0: {0: [(0.99, 0, 0.0), (0.01, 1, 0.2)], \n",
    "         1: [(1.0, 0, 0.0)]},\n",
    "     1: {0: [(0.99, 0, 0.0), (0.01, 2, 1.7)], \n",
    "         1: [(1.0, 1, 0.1)]},\n",
    "     2: {0: [(1.0, 2, 0.0)], \n",
    "         1: [(1.0, 2, 9.0)]}}\n",
    "nS = 3\n",
    "nA = 2\n",
    "\n",
    "mymdp = MDP(P, nS, nA, None)\n",
    "# like the frozen lake MDP defined above\n",
    "begin_grading()\n",
    "Vs, pis = value_iteration(mymdp, gamma=GAMMA, nIt=chg_iter+1)\n",
    "end_grading()"
   ]
  },
  {
   "cell_type": "markdown",
   "metadata": {
    "deletable": true,
    "editable": true
   },
   "source": [
    "## Problem 3: Policy Iteration\n",
    "\n",
    "The next task is to implement exact policy iteration (PI), which has the following pseudocode:\n",
    "\n",
    "---\n",
    "Initialize $\\pi_0$\n",
    "\n",
    "For $n=0, 1, 2, \\dots$\n",
    "- Compute the state-value function $V^{\\pi_{n}}$\n",
    "- Using $V^{\\pi_{n}}$, compute the state-action-value function $Q^{\\pi_{n}}$\n",
    "- Compute new policy $\\pi_{n+1}(s) = \\operatorname*{argmax}_a Q^{\\pi_{n}}(s,a)$\n",
    "---\n",
    "\n",
    "Below, you'll implement the first and second steps of the loop.\n",
    "\n",
    "### Problem 3a: state value function\n",
    "\n",
    "You'll write a function called `compute_vpi` that computes the state-value function $V^{\\pi}$ for an arbitrary policy $\\pi$.\n",
    "Recall that $V^{\\pi}$ satisfies the following linear equation:\n",
    "$$V^{\\pi}(s) = \\sum_{s'} P(s,\\pi(s),s')[ R(s,\\pi(s),s') + \\gamma V^{\\pi}(s')]$$\n",
    "You'll have to solve a linear system in your code. (Find an exact solution, e.g., with `np.linalg.solve`.)"
   ]
  },
  {
   "cell_type": "code",
   "execution_count": null,
   "metadata": {
    "collapsed": true,
    "deletable": true,
    "editable": true
   },
   "outputs": [],
   "source": [
    "def compute_vpi(pi, mdp, gamma):\n",
    "    # YOUR CODE HERE\n",
    "    return V"
   ]
  },
  {
   "cell_type": "markdown",
   "metadata": {
    "deletable": true,
    "editable": true
   },
   "source": [
    "Now let's compute the value of an arbitrarily-chosen policy. \n"
   ]
  },
  {
   "cell_type": "code",
   "execution_count": null,
   "metadata": {
    "collapsed": false,
    "deletable": true,
    "editable": true
   },
   "outputs": [],
   "source": [
    "begin_grading()\n",
    "print(compute_vpi(np.ones(16), mdp, gamma=GAMMA))\n",
    "end_grading()"
   ]
  },
  {
   "cell_type": "markdown",
   "metadata": {
    "deletable": true,
    "editable": true
   },
   "source": [
    "As a sanity check, if we run `compute_vpi` on the solution from our previous value iteration run, we should get approximately (but not exactly) the same values produced by value iteration."
   ]
  },
  {
   "cell_type": "code",
   "execution_count": null,
   "metadata": {
    "collapsed": false,
    "deletable": true,
    "editable": true
   },
   "outputs": [],
   "source": [
    "Vpi=compute_vpi(pis_VI[15], mdp, gamma=GAMMA)\n",
    "V_vi = Vs_VI[15]\n",
    "print(\"From compute_vpi\", Vpi)\n",
    "print(\"From value iteration\", V_vi)\n",
    "print(\"Difference\", Vpi - V_vi)"
   ]
  },
  {
   "cell_type": "markdown",
   "metadata": {
    "deletable": true,
    "editable": true
   },
   "source": [
    "### Problem 3b: state-action value function\n",
    "\n",
    "Next, you'll write a function to compute the state-action value function $Q^{\\pi}$, defined as follows\n",
    "\n",
    "$$Q^{\\pi}(s, a) = \\sum_{s'} P(s,a,s')[ R(s,a,s') + \\gamma V^{\\pi}(s')]$$\n"
   ]
  },
  {
   "cell_type": "code",
   "execution_count": null,
   "metadata": {
    "collapsed": false,
    "deletable": true,
    "editable": true,
    "nbgrader": {
     "grade": false,
     "grade_id": "compute_qpi",
     "locked": false,
     "solution": true
    }
   },
   "outputs": [],
   "source": [
    "def compute_qpi(vpi, mdp,  gamma):\n",
    "    # YOUR CODE HERE\n",
    "    return Qpi\n",
    "\n",
    "begin_grading()\n",
    "Qpi = compute_qpi(np.arange(mdp.nS), mdp, gamma=0.95)\n",
    "print(\"Qpi:\\n\", Qpi)\n",
    "end_grading()"
   ]
  },
  {
   "cell_type": "markdown",
   "metadata": {
    "deletable": true,
    "editable": true
   },
   "source": [
    "Now we're ready to run policy iteration!"
   ]
  },
  {
   "cell_type": "code",
   "execution_count": null,
   "metadata": {
    "collapsed": false,
    "deletable": true,
    "editable": true,
    "nbgrader": {
     "grade": false,
     "locked": false,
     "solution": false
    },
    "scrolled": false
   },
   "outputs": [],
   "source": [
    "def policy_iteration(mdp, gamma, nIt):\n",
    "    Vs = []\n",
    "    pis = []\n",
    "    pi_prev = np.zeros(mdp.nS,dtype='int')\n",
    "    pis.append(pi_prev)\n",
    "    print(\"Iteration | # chg actions | V[0]\")\n",
    "    print(\"----------+---------------+---------\")\n",
    "    for it in range(nIt):        \n",
    "        vpi = compute_vpi(pi_prev, mdp, gamma)\n",
    "        qpi = compute_qpi(vpi, mdp, gamma)\n",
    "        pi = qpi.argmax(axis=1)\n",
    "        print(\"%4i      | %6i        | %6.5f\"%(it, (pi != pi_prev).sum(), vpi[0]))\n",
    "        Vs.append(vpi)\n",
    "        pis.append(pi)\n",
    "        pi_prev = pi\n",
    "    return Vs, pis\n",
    "Vs_PI, pis_PI = policy_iteration(mdp, gamma=0.95, nIt=20)\n",
    "plt.plot(Vs_PI);"
   ]
  },
  {
   "cell_type": "markdown",
   "metadata": {
    "deletable": true,
    "editable": true
   },
   "source": [
    "Now we can compare the convergence of value iteration and policy iteration on several states.\n",
    "For fun, you can try adding modified policy iteration."
   ]
  },
  {
   "cell_type": "code",
   "execution_count": null,
   "metadata": {
    "collapsed": false,
    "deletable": true,
    "editable": true,
    "scrolled": false
   },
   "outputs": [],
   "source": [
    "for s in range(5):\n",
    "    plt.figure()\n",
    "    plt.plot(np.array(Vs_VI)[:,s])\n",
    "    plt.plot(np.array(Vs_PI)[:,s])\n",
    "    plt.ylabel(\"value of state %i\"%s)\n",
    "    plt.xlabel(\"iteration\")\n",
    "    plt.legend([\"value iteration\", \"policy iteration\"], loc='best')"
   ]
  },
  {
   "cell_type": "code",
   "execution_count": null,
   "metadata": {
    "collapsed": true,
    "deletable": true,
    "editable": true
   },
   "outputs": [],
   "source": []
  }
 ],
 "metadata": {
  "anaconda-cloud": {},
  "celltoolbar": "Create Assignment",
  "kernelspec": {
   "display_name": "Python 2",
   "language": "python",
   "name": "python2"
  },
  "language_info": {
   "codemirror_mode": {
    "name": "ipython",
    "version": 2
   },
   "file_extension": ".py",
   "mimetype": "text/x-python",
   "name": "python",
   "nbconvert_exporter": "python",
   "pygments_lexer": "ipython2",
   "version": "2.7.12"
  }
 },
 "nbformat": 4,
 "nbformat_minor": 0
}
